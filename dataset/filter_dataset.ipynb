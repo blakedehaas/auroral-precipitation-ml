{
 "cells": [
  {
   "cell_type": "markdown",
   "metadata": {},
   "source": [
    "This notebook filters the Akebono dataset to reduce incorrect, noisy data that makes model training more difficult.\n",
    "\n",
    "V2 has the following filters applied:\n",
    "- Keep only the following columns:\n",
    "    - 'Altitude', 'GCLAT', 'GCLON', 'ILAT', 'GLAT', 'GMLT', 'XXLAT', 'XXLON', 'Te1', 'Ne1', 'Pv1', 'I1', 'DateFormatted'\n",
    "- Remove all rows where XXLAT and XXLON = 999\n",
    "- Remove all rows where altitude = 2.0\n",
    "- ILAT should be within 0 and 90. We will squash > 90 to 90.\n",
    "- Date should be after 1990-01-01\n",
    "    - Early data is taken whilst the instrument was still calibrating.\n",
    "- Altitude should be between 1000km and 8000km\n",
    "    - Instrument wasn't built to record data outside this range.\n",
    "\n",
    "\n",
    "V2A has the following filters applied:\n",
    "- Keep only the following columns:\n",
    "    - 'Altitude', 'GCLAT', 'GCLON', 'ILAT', 'GLAT', 'GMLT', 'XXLAT', 'XXLON', 'Te1', 'Ne1', 'Pv1', 'I1', 'DateFormatted'\n",
    "- Remove all rows where XXLAT and XXLON = 999\n",
    "- Remove all rows where altitude = 2.0\n",
    "- Remove all rows where ILAT > 90.\n",
    "- Date should be after 1990-01-01\n",
    "    - Early data is taken whilst the instrument was still calibrating.\n",
    "- Altitude should be between 1000km and 8000km\n",
    "    - Instrument wasn't built to record data outside this range."
   ]
  },
  {
   "cell_type": "code",
   "execution_count": 1,
   "metadata": {},
   "outputs": [],
   "source": [
    "import pandas as pd"
   ]
  },
  {
   "cell_type": "code",
   "execution_count": 9,
   "metadata": {},
   "outputs": [],
   "source": [
    "# Load the TSV file\n",
    "df = pd.read_csv('../data/Akebono_combined.tsv', sep='\\t')"
   ]
  },
  {
   "cell_type": "code",
   "execution_count": 10,
   "metadata": {},
   "outputs": [
    {
     "name": "stdout",
     "output_type": "stream",
     "text": [
      "Rows removed where XXLAT and XXLON are 999: 133659\n",
      "XXLAT range after filtering: -89.78 - 86.64\n",
      "XXLON range after filtering: 0.0 - 24.0\n",
      "\n",
      "Rows removed where altitude is 2.0: 0\n",
      "Altitude range after filtering: 225.0 - 10475.0 km\n",
      "\n",
      "Rows removed where ILAT > 90: 22891\n",
      "ILAT range after filtering: 19.91 - 85.0\n",
      "\n",
      "Rows removed where DateFormatted is before 1990-01-01: 144109\n",
      "DateFormatted range after filtering: 1990-01-08 00:00:00 - 2001-12-30 00:00:00\n",
      "\n",
      "Rows removed where Altitude is less than 1000km or greater than 8000km: 844752\n",
      "Altitude range after filtering: 1000.0 - 8000.0 km\n",
      "\n",
      "Rows in original dataset: 4405241\n",
      "Rows in filtered dataset: 3259830\n",
      "Total rows removed: 1145411\n"
     ]
    }
   ],
   "source": [
    "# Keep only specific columns\n",
    "columns_to_keep = ['Altitude', 'GCLAT', 'GCLON', 'ILAT', 'GLAT', 'GMLT', 'XXLAT', 'XXLON', 'Te1', 'Ne1', 'Pv1', 'I1', 'DateFormatted']\n",
    "df = df[columns_to_keep]\n",
    "\n",
    "# Convert DateFormatted to datetime\n",
    "df['DateFormatted'] = pd.to_datetime(df['DateFormatted'])\n",
    "\n",
    "# Remove rows where XXLAT and XXLON are 999\n",
    "rows_before = len(df)\n",
    "df = df[(df['XXLAT'] != 999) | (df['XXLON'] != 999)]\n",
    "print(f\"Rows removed where XXLAT and XXLON are 999: {rows_before - len(df)}\")\n",
    "print(f\"XXLAT range after filtering: {df['XXLAT'].min()} - {df['XXLAT'].max()}\")\n",
    "print(f\"XXLON range after filtering: {df['XXLON'].min()} - {df['XXLON'].max()}\")\n",
    "print()\n",
    "\n",
    "# Remove rows where altitude is 2.0. Should be 0 as it's coupled with the XXLAT and XXLON filter.\n",
    "rows_before = len(df)\n",
    "df = df[df['Altitude'] != 2.0]\n",
    "print(f\"Rows removed where altitude is 2.0: {rows_before - len(df)}\")\n",
    "print(f\"Altitude range after filtering: {df['Altitude'].min()} - {df['Altitude'].max()} km\")\n",
    "print()\n",
    "\n",
    "# Version 2: Squash ILAT values > 90 to 90\n",
    "ilat_affected = (df['ILAT'] > 90).sum()\n",
    "df['ILAT'] = df['ILAT'].clip(0, 90)\n",
    "print(f\"ILAT values > 90 squashed to 90: {ilat_affected} rows affected\")\n",
    "print(f\"ILAT range after squashing: {df['ILAT'].min()} - {df['ILAT'].max()}\")\n",
    "print()\n",
    "\n",
    "# # Version 2A: Remove rows where ILAT > 90\n",
    "# rows_before = len(df)\n",
    "# df = df[df['ILAT'] <= 90]\n",
    "# print(f\"Rows removed where ILAT > 90: {rows_before - len(df)}\")\n",
    "# print(f\"ILAT range after filtering: {df['ILAT'].min()} - {df['ILAT'].max()}\")\n",
    "# print()\n",
    "\n",
    "# Remove rows where DateFormatted is before 1990-01-01\n",
    "rows_before = len(df)\n",
    "df = df[df['DateFormatted'].dt.year >= 1990]\n",
    "print(f\"Rows removed where DateFormatted is before 1990-01-01: {rows_before - len(df)}\")\n",
    "print(f\"DateFormatted range after filtering: {df['DateFormatted'].min()} - {df['DateFormatted'].max()}\")\n",
    "print()\n",
    "\n",
    "# Remove rows where Altitude is less than 1000km or greater than 8000km\n",
    "altitude_affected = (df['Altitude'] < 1000) | (df['Altitude'] > 8000)\n",
    "df = df[~altitude_affected]\n",
    "print(f\"Rows removed where Altitude is less than 1000km or greater than 8000km: {altitude_affected.sum()}\")\n",
    "print(f\"Altitude range after filtering: {df['Altitude'].min()} - {df['Altitude'].max()} km\")\n",
    "print()\n",
    "\n",
    "# Print the total number of rows removed\n",
    "original_rows = len(pd.read_csv('../data/Akebono_combined.tsv', sep='\\t'))\n",
    "print(f\"Rows in original dataset: {original_rows}\")\n",
    "print(f\"Rows in filtered dataset: {len(df)}\")\n",
    "print(f\"Total rows removed: {original_rows - len(df)}\")\n"
   ]
  },
  {
   "cell_type": "code",
   "execution_count": 11,
   "metadata": {},
   "outputs": [],
   "source": [
    "# Save the filtered dataset to a new TSV file\n",
    "df.to_csv('../data/Akebono_v2.tsv', sep='\\t', index=False)\n"
   ]
  },
  {
   "cell_type": "code",
   "execution_count": 12,
   "metadata": {},
   "outputs": [
    {
     "name": "stdout",
     "output_type": "stream",
     "text": [
      "Train set size: 3059830\n",
      "Validation set size: 100000\n",
      "Test set size: 100000\n"
     ]
    }
   ],
   "source": [
    "# Make it into train, test, validation splits\n",
    "# Import necessary libraries\n",
    "from sklearn.model_selection import train_test_split\n",
    "\n",
    "# Calculate the sizes for each split\n",
    "total_rows = len(df)\n",
    "test_size = 100000\n",
    "val_size = 100000\n",
    "train_size = total_rows - test_size - val_size\n",
    "\n",
    "# Create the splits\n",
    "train_df, temp_df = train_test_split(df, test_size=test_size+val_size, random_state=42)\n",
    "val_df, test_df = train_test_split(temp_df, test_size=test_size, random_state=42)\n",
    "\n",
    "# Print the sizes of each split\n",
    "print(f\"Train set size: {len(train_df)}\")\n",
    "print(f\"Validation set size: {len(val_df)}\")\n",
    "print(f\"Test set size: {len(test_df)}\")\n",
    "\n",
    "# Save each split to a separate TSV file\n",
    "train_df.to_csv('../data/Akebono_v2_train.tsv', sep='\\t', index=False)\n",
    "val_df.to_csv('../data/Akebono_v2_val.tsv', sep='\\t', index=False)\n",
    "test_df.to_csv('../data/Akebono_v2_test.tsv', sep='\\t', index=False)\n",
    "\n"
   ]
  }
 ],
 "metadata": {
  "kernelspec": {
   "display_name": "venv39",
   "language": "python",
   "name": "python3"
  },
  "language_info": {
   "codemirror_mode": {
    "name": "ipython",
    "version": 3
   },
   "file_extension": ".py",
   "mimetype": "text/x-python",
   "name": "python",
   "nbconvert_exporter": "python",
   "pygments_lexer": "ipython3",
   "version": "3.9.19"
  }
 },
 "nbformat": 4,
 "nbformat_minor": 2
}
