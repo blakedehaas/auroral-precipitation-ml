{
  "cells": [
    {
      "cell_type": "markdown",
      "metadata": {
        "id": "LxDEc4YBvlN-"
      },
      "source": [
        "Aurora Precipitation ML Notebook\n",
        "\n",
        "Problem: Unstable convergence\n",
        "\n",
        "Ideas:\n",
        "- [Works] Overfit to a single sample first\n",
        "- Increase network size\n",
        "  - Tried a 5 layer FF network, no improvement.\n",
        "- Huber loss (https://pytorch.org/docs/stable/generated/torch.nn.HuberLoss.html)\n",
        "  - I don't think this will improve model performance\n",
        "- [Works] normalize (mean = 0, std dev = 1) all input features\n",
        "- [Works] Scale output features (log scale?)\n",
        "  - Applied log then followed by mean = 0, std dev = 1 on the log values\n",
        "- Make the model output a gaussian distribution as opposed to a single node. Loss is GaussianNLL (https://pytorch.org/docs/stable/generated/torch.nn.GaussianNLLLoss.html)\n",
        "  - This seems to work decently but I'm getting unstable training, have to debug this.\n",
        "- Output multiple gaussian distributions (mixture density network)\n",
        "- k-fold cross-validation\n",
        "(By using multiple training and testing cycles, it minimizes the risk of overfitting to a particular data split)\n",
        "- Look into ensemble of models with different initial conditions / handling of outliers\n",
        "(model ensembles are used a lot in ATOC research since systems are so chaotic)\n",
        "\n",
        "Things to do:\n",
        "- Split out the test set into its own TSV so it stays constant every run.\n",
        "(This wouldn't work with k-fold cross-validation)\n",
        "- Add one cycle LR scheduling\n",
        "- Filter the dataset according to Blake's suggestions\n",
        "- Increase dataloder workers to num cpus\n",
        "- Debug GaussianNetwork"
      ]
    },
    {
      "cell_type": "code",
      "execution_count": 1,
      "metadata": {
        "id": "4mr26x9XlJPg"
      },
      "outputs": [],
      "source": [
        "import pandas as pd\n",
        "import os\n",
        "import matplotlib.pyplot as plt\n",
        "from tqdm import tqdm\n",
        "import torch\n",
        "import torch.nn as nn\n",
        "import torch.optim as optim\n",
        "from torch.utils.data import Dataset, DataLoader, random_split\n",
        "import pandas as pd\n",
        "import numpy as np"
      ]
    },
    {
      "cell_type": "code",
      "execution_count": 10,
      "metadata": {
        "id": "KqscDMaClU3p"
      },
      "outputs": [],
      "source": [
        "train_df = pd.read_csv('data/train.tsv', sep='\\t')\n",
        "eval_df = pd.read_csv('data/validation.tsv', sep='\\t')\n",
        "train_df = train_df.sample(frac=0.1).reset_index(drop=True)"
      ]
    },
    {
      "cell_type": "code",
      "execution_count": 11,
      "metadata": {},
      "outputs": [
        {
          "data": {
            "text/html": [
              "<div>\n",
              "<style scoped>\n",
              "    .dataframe tbody tr th:only-of-type {\n",
              "        vertical-align: middle;\n",
              "    }\n",
              "\n",
              "    .dataframe tbody tr th {\n",
              "        vertical-align: top;\n",
              "    }\n",
              "\n",
              "    .dataframe thead th {\n",
              "        text-align: right;\n",
              "    }\n",
              "</style>\n",
              "<table border=\"1\" class=\"dataframe\">\n",
              "  <thead>\n",
              "    <tr style=\"text-align: right;\">\n",
              "      <th></th>\n",
              "      <th>Altitude</th>\n",
              "      <th>GCLAT</th>\n",
              "      <th>GCLON</th>\n",
              "      <th>ILAT</th>\n",
              "      <th>GLAT</th>\n",
              "      <th>GMLT</th>\n",
              "      <th>XXLAT</th>\n",
              "      <th>XXLON</th>\n",
              "      <th>Te1</th>\n",
              "      <th>Ne1</th>\n",
              "      <th>Pv1</th>\n",
              "      <th>I1</th>\n",
              "      <th>DateFormatted</th>\n",
              "    </tr>\n",
              "  </thead>\n",
              "  <tbody>\n",
              "    <tr>\n",
              "      <th>0</th>\n",
              "      <td>1687.0</td>\n",
              "      <td>52.62</td>\n",
              "      <td>71.3</td>\n",
              "      <td>47.69</td>\n",
              "      <td>38.50</td>\n",
              "      <td>12.93</td>\n",
              "      <td>48.33</td>\n",
              "      <td>12.7</td>\n",
              "      <td>4274</td>\n",
              "      <td>1709</td>\n",
              "      <td>2.34</td>\n",
              "      <td>50</td>\n",
              "      <td>1997-06-03 07:59:06</td>\n",
              "    </tr>\n",
              "    <tr>\n",
              "      <th>1</th>\n",
              "      <td>3623.0</td>\n",
              "      <td>-25.61</td>\n",
              "      <td>136.0</td>\n",
              "      <td>35.21</td>\n",
              "      <td>-1.50</td>\n",
              "      <td>15.32</td>\n",
              "      <td>999.00</td>\n",
              "      <td>999.0</td>\n",
              "      <td>4545</td>\n",
              "      <td>2348</td>\n",
              "      <td>2.34</td>\n",
              "      <td>51</td>\n",
              "      <td>1996-06-10 06:11:04</td>\n",
              "    </tr>\n",
              "    <tr>\n",
              "      <th>2</th>\n",
              "      <td>3696.0</td>\n",
              "      <td>-56.81</td>\n",
              "      <td>10.0</td>\n",
              "      <td>55.17</td>\n",
              "      <td>-40.47</td>\n",
              "      <td>1.65</td>\n",
              "      <td>-54.46</td>\n",
              "      <td>1.5</td>\n",
              "      <td>3502</td>\n",
              "      <td>1451</td>\n",
              "      <td>2.19</td>\n",
              "      <td>49</td>\n",
              "      <td>1997-05-22 01:57:03</td>\n",
              "    </tr>\n",
              "  </tbody>\n",
              "</table>\n",
              "</div>"
            ],
            "text/plain": [
              "   Altitude  GCLAT  GCLON   ILAT   GLAT   GMLT   XXLAT  XXLON   Te1   Ne1  \\\n",
              "0    1687.0  52.62   71.3  47.69  38.50  12.93   48.33   12.7  4274  1709   \n",
              "1    3623.0 -25.61  136.0  35.21  -1.50  15.32  999.00  999.0  4545  2348   \n",
              "2    3696.0 -56.81   10.0  55.17 -40.47   1.65  -54.46    1.5  3502  1451   \n",
              "\n",
              "    Pv1  I1       DateFormatted  \n",
              "0  2.34  50 1997-06-03 07:59:06  \n",
              "1  2.34  51 1996-06-10 06:11:04  \n",
              "2  2.19  49 1997-05-22 01:57:03  "
            ]
          },
          "execution_count": 11,
          "metadata": {},
          "output_type": "execute_result"
        }
      ],
      "source": [
        "# Keep only specific columns\n",
        "columns_to_keep = ['Altitude', 'GCLAT', 'GCLON', 'ILAT', 'GLAT', 'GMLT', 'XXLAT', 'XXLON', 'Te1', 'Ne1', 'Pv1', 'I1', 'DateFormatted', 'TimeFormatted']\n",
        "train_df = train_df[columns_to_keep]\n",
        "eval_df = eval_df[columns_to_keep]\n",
        "\n",
        "# Convert DateFormatted and TimeFormatted columns to datetime\n",
        "train_df['DateFormatted'] = pd.to_datetime(train_df['DateFormatted'] + ' ' + train_df['TimeFormatted'], format='%Y-%m-%d %H:%M:%S')\n",
        "eval_df['DateFormatted'] = pd.to_datetime(eval_df['DateFormatted'] + ' ' + eval_df['TimeFormatted'], format='%Y-%m-%d %H:%M:%S')\n",
        "train_df.drop('TimeFormatted', axis=1, inplace=True)\n",
        "eval_df.drop('TimeFormatted', axis=1, inplace=True)\n",
        "\n",
        "train_df.head(3)"
      ]
    },
    {
      "cell_type": "code",
      "execution_count": 12,
      "metadata": {
        "colab": {
          "base_uri": "https://localhost:8080/",
          "height": 226
        },
        "id": "CilXn9liwKBJ",
        "outputId": "a7f959fc-7db2-46ba-b649-3d4dbfbf5cee"
      },
      "outputs": [
        {
          "name": "stdout",
          "output_type": "stream",
          "text": [
            "Normalized data shape: (420524, 13)\n"
          ]
        },
        {
          "data": {
            "text/html": [
              "<div>\n",
              "<style scoped>\n",
              "    .dataframe tbody tr th:only-of-type {\n",
              "        vertical-align: middle;\n",
              "    }\n",
              "\n",
              "    .dataframe tbody tr th {\n",
              "        vertical-align: top;\n",
              "    }\n",
              "\n",
              "    .dataframe thead th {\n",
              "        text-align: right;\n",
              "    }\n",
              "</style>\n",
              "<table border=\"1\" class=\"dataframe\">\n",
              "  <thead>\n",
              "    <tr style=\"text-align: right;\">\n",
              "      <th></th>\n",
              "      <th>Altitude</th>\n",
              "      <th>GCLAT</th>\n",
              "      <th>GCLON</th>\n",
              "      <th>ILAT</th>\n",
              "      <th>GLAT</th>\n",
              "      <th>GMLT</th>\n",
              "      <th>XXLAT</th>\n",
              "      <th>XXLON</th>\n",
              "      <th>Te1</th>\n",
              "      <th>Ne1</th>\n",
              "      <th>Pv1</th>\n",
              "      <th>I1</th>\n",
              "      <th>DateFormatted</th>\n",
              "    </tr>\n",
              "  </thead>\n",
              "  <tbody>\n",
              "    <tr>\n",
              "      <th>0</th>\n",
              "      <td>-1.409704</td>\n",
              "      <td>0.684502</td>\n",
              "      <td>-0.831158</td>\n",
              "      <td>-0.149552</td>\n",
              "      <td>0.786159</td>\n",
              "      <td>0.197250</td>\n",
              "      <td>-0.002200</td>\n",
              "      <td>-0.169951</td>\n",
              "      <td>-0.625576</td>\n",
              "      <td>-0.130394</td>\n",
              "      <td>-0.115919</td>\n",
              "      <td>0.484468</td>\n",
              "      <td>1997-06-03 07:59:06</td>\n",
              "    </tr>\n",
              "    <tr>\n",
              "      <th>1</th>\n",
              "      <td>-0.650825</td>\n",
              "      <td>-0.910177</td>\n",
              "      <td>-0.222542</td>\n",
              "      <td>-0.350600</td>\n",
              "      <td>-0.317321</td>\n",
              "      <td>0.529998</td>\n",
              "      <td>5.409682</td>\n",
              "      <td>5.641005</td>\n",
              "      <td>-0.530749</td>\n",
              "      <td>-0.009025</td>\n",
              "      <td>-0.115919</td>\n",
              "      <td>0.538502</td>\n",
              "      <td>1996-06-10 06:11:04</td>\n",
              "    </tr>\n",
              "    <tr>\n",
              "      <th>2</th>\n",
              "      <td>-0.622210</td>\n",
              "      <td>-1.546173</td>\n",
              "      <td>-1.407791</td>\n",
              "      <td>-0.029052</td>\n",
              "      <td>-1.392386</td>\n",
              "      <td>-1.373207</td>\n",
              "      <td>-0.587353</td>\n",
              "      <td>-0.235937</td>\n",
              "      <td>-0.895709</td>\n",
              "      <td>-0.179398</td>\n",
              "      <td>-0.362060</td>\n",
              "      <td>0.430434</td>\n",
              "      <td>1997-05-22 01:57:03</td>\n",
              "    </tr>\n",
              "  </tbody>\n",
              "</table>\n",
              "</div>"
            ],
            "text/plain": [
              "   Altitude     GCLAT     GCLON      ILAT      GLAT      GMLT     XXLAT  \\\n",
              "0 -1.409704  0.684502 -0.831158 -0.149552  0.786159  0.197250 -0.002200   \n",
              "1 -0.650825 -0.910177 -0.222542 -0.350600 -0.317321  0.529998  5.409682   \n",
              "2 -0.622210 -1.546173 -1.407791 -0.029052 -1.392386 -1.373207 -0.587353   \n",
              "\n",
              "      XXLON       Te1       Ne1       Pv1        I1       DateFormatted  \n",
              "0 -0.169951 -0.625576 -0.130394 -0.115919  0.484468 1997-06-03 07:59:06  \n",
              "1  5.641005 -0.530749 -0.009025 -0.115919  0.538502 1996-06-10 06:11:04  \n",
              "2 -0.235937 -0.895709 -0.179398 -0.362060  0.430434 1997-05-22 01:57:03  "
            ]
          },
          "execution_count": 12,
          "metadata": {},
          "output_type": "execute_result"
        }
      ],
      "source": [
        "# Normalize all location and atmospheric parameters (mean = 0 and std dev = 1)\n",
        "columns_to_normalize = ['Altitude', 'GCLAT', 'GCLON', 'ILAT', 'GLAT', 'GMLT', 'XXLAT', 'XXLON', 'Ne1', 'Pv1', 'I1', 'Te1']\n",
        "\n",
        "# Function to calculate mean and std dev for specified columns\n",
        "def calculate_stats(df, columns):\n",
        "    means = df[columns].mean()\n",
        "    stds = df[columns].std()\n",
        "    return means, stds\n",
        "\n",
        "# Function to normalize specified columns in the DataFrame\n",
        "def normalize_df(df, means, stds, columns):\n",
        "    df[columns] = (df[columns] - means) / stds\n",
        "    return df\n",
        "\n",
        "# Calculate mean and std for the specified columns\n",
        "means, stds = calculate_stats(train_df, columns_to_normalize)\n",
        "train_df_norm = normalize_df(train_df, means, stds, columns_to_normalize)\n",
        "\n",
        "means, stds = calculate_stats(eval_df, columns_to_normalize)\n",
        "eval_df_norm = normalize_df(eval_df, means, stds, columns_to_normalize)\n",
        "\n",
        "# Verify there are no NaNs in the normalized DataFrame\n",
        "assert train_df_norm[columns_to_normalize].isna().sum().sum() == 0, \"NaN values found in normalized data\"\n",
        "assert eval_df_norm[columns_to_normalize].isna().sum().sum() == 0, \"NaN values found in normalized data\"\n",
        "\n",
        "print(\"Normalized data shape:\", train_df_norm.shape)\n",
        "train_df_norm.head(3)"
      ]
    },
    {
      "cell_type": "code",
      "execution_count": 13,
      "metadata": {},
      "outputs": [
        {
          "name": "stdout",
          "output_type": "stream",
          "text": [
            "Cyclic features added to train and eval datasets.\n",
            "Train dataframe shape: (420524, 15)\n",
            "Eval dataframe shape: (100000, 15)\n",
            "New columns in train dataset: ['Altitude', 'GCLAT', 'GCLON', 'ILAT', 'GLAT', 'GMLT', 'XXLAT', 'XXLON', 'Te1', 'Ne1', 'Pv1', 'I1', 'Year', 'DayOfYear_sin', 'TimeOfDay_sin']\n",
            "New columns in eval dataset: ['Altitude', 'GCLAT', 'GCLON', 'ILAT', 'GLAT', 'GMLT', 'XXLAT', 'XXLON', 'Te1', 'Ne1', 'Pv1', 'I1', 'Year', 'DayOfYear_sin', 'TimeOfDay_sin']\n"
          ]
        }
      ],
      "source": [
        "# Convert date and time into cyclic features for both train and eval datasets\n",
        "for df in [train_df_norm, eval_df_norm]:\n",
        "    # Extract components from DateFormatted\n",
        "    df['Year'] = df['DateFormatted'].dt.year - 1989\n",
        "    df['DayOfYear'] = df['DateFormatted'].dt.dayofyear\n",
        "    df['TimeOfDay'] = (df['DateFormatted'].dt.hour * 3600 +\n",
        "                       df['DateFormatted'].dt.minute * 60 +\n",
        "                       df['DateFormatted'].dt.second) / 86400\n",
        "\n",
        "    # Calculate cyclic features\n",
        "    df['DayOfYear_sin'] = np.sin(2 * np.pi * df['DayOfYear'] / 365.25)\n",
        "    df['TimeOfDay_sin'] = np.sin(2 * np.pi * df['TimeOfDay'])\n",
        "\n",
        "# Drop original date column and intermediate columns\n",
        "train_df_norm_final = train_df_norm.drop(['DateFormatted', 'DayOfYear', 'TimeOfDay'], axis=1)\n",
        "eval_df_norm_final = eval_df_norm.drop(['DateFormatted', 'DayOfYear', 'TimeOfDay'], axis=1)\n",
        "\n",
        "print(\"Cyclic features added to train and eval datasets.\")\n",
        "print(\"Train dataframe shape:\", train_df_norm_final.shape)\n",
        "print(\"Eval dataframe shape:\", eval_df_norm_final.shape)\n",
        "print(\"New columns in train dataset:\", train_df_norm_final.columns.tolist())\n",
        "print(\"New columns in eval dataset:\", eval_df_norm_final.columns.tolist())\n",
        "\n"
      ]
    },
    {
      "cell_type": "code",
      "execution_count": 14,
      "metadata": {
        "id": "zevfLZ-s4JyH"
      },
      "outputs": [],
      "source": [
        "input_columns = ['Altitude', 'GCLAT', 'GCLON', 'ILAT', 'GLAT', 'GMLT', 'XXLAT', 'XXLON', 'Ne1', 'Pv1', 'I1', 'Year', 'DayOfYear_sin', 'TimeOfDay_sin']\n",
        "output_column = 'Te1'\n",
        "\n",
        "class DataFrameDataset(Dataset):\n",
        "    def __init__(self, dataframe, input_columns, output_column):\n",
        "        self.X = torch.tensor(dataframe[input_columns].values, dtype=torch.float32)\n",
        "        self.y = torch.tensor(dataframe[output_column].values, dtype=torch.float32).reshape(-1, 1)\n",
        "\n",
        "    def __len__(self):\n",
        "        return len(self.X)\n",
        "\n",
        "    def __getitem__(self, idx):\n",
        "        return self.X[idx], self.y[idx]\n",
        "\n",
        "# class Network(nn.Module):\n",
        "#     def __init__(self, input_size, hidden_size, output_size):\n",
        "#         super(Network, self).__init__()\n",
        "#         self.layer1 = nn.Linear(input_size, hidden_size)\n",
        "#         self.layer2 = nn.Linear(hidden_size, output_size)\n",
        "#         self.relu = nn.ReLU()\n",
        "\n",
        "#     def forward(self, x):\n",
        "#         x = self.relu(self.layer1(x))\n",
        "#         x = self.layer2(x)\n",
        "#         return x\n",
        "\n",
        "class GaussianNetwork(nn.Module):\n",
        "    def __init__(self, input_size, hidden_size, output_size):\n",
        "        super(GaussianNetwork, self).__init__()\n",
        "        self.layer1 = nn.Linear(input_size, hidden_size)\n",
        "        self.mean_layer = nn.Linear(hidden_size, output_size)\n",
        "        self.var_layer = nn.Linear(hidden_size, output_size)\n",
        "        self.relu = nn.ReLU()\n",
        "\n",
        "\n",
        "    def forward(self, x):\n",
        "        x = self.relu(self.layer1(x))\n",
        "        mean = self.mean_layer(x)\n",
        "        var = self.relu(self.var_layer(x))\n",
        "        return mean, var\n",
        "\n",
        "# Hyperparameters\n",
        "batch_size = 8\n",
        "\n",
        "# Set up data loader\n",
        "train_ds = DataFrameDataset(train_df_norm_final, input_columns, output_column)\n",
        "eval_ds = DataFrameDataset(eval_df_norm_final, input_columns, output_column)\n",
        "\n",
        "train_loader = DataLoader(train_ds, batch_size=batch_size, shuffle=True, num_workers=0)\n",
        "eval_loader = DataLoader(eval_ds, batch_size=batch_size, shuffle=False, num_workers=0)\n",
        "\n",
        "# Initialize the model\n",
        "input_size = len(input_columns)\n",
        "hidden_size = 64\n",
        "output_size = 1\n",
        "# model = Network(input_size, hidden_size, output_size).to(\"cuda\")\n",
        "model = GaussianNetwork(input_size, hidden_size, output_size).to(\"cuda\")\n",
        "\n",
        "# Define loss function and optimizer\n",
        "# criterion = nn.MSELoss()\n",
        "criterion = nn.GaussianNLLLoss()\n",
        "optimizer = optim.Adam(model.parameters(), lr=3e-4)\n"
      ]
    },
    {
      "cell_type": "code",
      "execution_count": 15,
      "metadata": {
        "colab": {
          "base_uri": "https://localhost:8080/"
        },
        "id": "2hLwfcGROagC",
        "outputId": "d6643fee-9133-485e-bb83-e54173c2ddf6"
      },
      "outputs": [
        {
          "name": "stderr",
          "output_type": "stream",
          "text": [
            "  0%|          | 44/52566 [00:00<04:15, 205.24it/s]"
          ]
        },
        {
          "name": "stdout",
          "output_type": "stream",
          "text": [
            "Step [0], Train Loss: 408821.1250\n"
          ]
        },
        {
          "name": "stderr",
          "output_type": "stream",
          "text": [
            "  2%|▏         | 1072/52566 [00:02<02:01, 425.02it/s]"
          ]
        },
        {
          "name": "stdout",
          "output_type": "stream",
          "text": [
            "Step [1000], Train Loss: 53714.6680\n"
          ]
        },
        {
          "name": "stderr",
          "output_type": "stream",
          "text": [
            "  4%|▍         | 2087/52566 [00:04<01:48, 465.80it/s]"
          ]
        },
        {
          "name": "stdout",
          "output_type": "stream",
          "text": [
            "Step [2000], Train Loss: 0.0778\n"
          ]
        },
        {
          "name": "stderr",
          "output_type": "stream",
          "text": [
            "  6%|▌         | 3067/52566 [00:07<01:50, 448.58it/s]"
          ]
        },
        {
          "name": "stdout",
          "output_type": "stream",
          "text": [
            "Step [3000], Train Loss: -0.1187\n"
          ]
        },
        {
          "name": "stderr",
          "output_type": "stream",
          "text": [
            "  8%|▊         | 4092/52566 [00:09<01:44, 462.54it/s]"
          ]
        },
        {
          "name": "stdout",
          "output_type": "stream",
          "text": [
            "Step [4000], Train Loss: 0.4316\n"
          ]
        },
        {
          "name": "stderr",
          "output_type": "stream",
          "text": [
            " 10%|▉         | 5045/52566 [00:11<01:41, 470.16it/s]"
          ]
        },
        {
          "name": "stdout",
          "output_type": "stream",
          "text": [
            "Step [5000], Train Loss: -0.0562\n"
          ]
        },
        {
          "name": "stderr",
          "output_type": "stream",
          "text": [
            " 12%|█▏        | 6070/52566 [00:13<01:40, 460.37it/s]"
          ]
        },
        {
          "name": "stdout",
          "output_type": "stream",
          "text": [
            "Step [6000], Train Loss: -0.0344\n"
          ]
        },
        {
          "name": "stderr",
          "output_type": "stream",
          "text": [
            " 13%|█▎        | 7068/52566 [00:15<01:40, 451.36it/s]"
          ]
        },
        {
          "name": "stdout",
          "output_type": "stream",
          "text": [
            "Step [7000], Train Loss: 0.1463\n"
          ]
        },
        {
          "name": "stderr",
          "output_type": "stream",
          "text": [
            " 15%|█▌        | 8080/52566 [00:18<01:43, 431.63it/s]"
          ]
        },
        {
          "name": "stdout",
          "output_type": "stream",
          "text": [
            "Step [8000], Train Loss: -0.1321\n"
          ]
        },
        {
          "name": "stderr",
          "output_type": "stream",
          "text": [
            " 17%|█▋        | 9064/52566 [00:20<01:32, 468.47it/s]"
          ]
        },
        {
          "name": "stdout",
          "output_type": "stream",
          "text": [
            "Step [9000], Train Loss: 0.8534\n"
          ]
        },
        {
          "name": "stderr",
          "output_type": "stream",
          "text": [
            " 19%|█▉        | 10047/52566 [00:22<01:37, 434.79it/s]"
          ]
        },
        {
          "name": "stdout",
          "output_type": "stream",
          "text": [
            "Step [10000], Train Loss: 0.1093\n"
          ]
        },
        {
          "name": "stderr",
          "output_type": "stream",
          "text": [
            " 21%|██        | 10817/52566 [00:24<01:33, 446.27it/s]\n"
          ]
        },
        {
          "ename": "KeyboardInterrupt",
          "evalue": "",
          "output_type": "error",
          "traceback": [
            "\u001b[0;31m---------------------------------------------------------------------------\u001b[0m",
            "\u001b[0;31mKeyboardInterrupt\u001b[0m                         Traceback (most recent call last)",
            "Cell \u001b[0;32mIn[15], line 29\u001b[0m\n\u001b[1;32m     26\u001b[0m y \u001b[38;5;241m=\u001b[39m y\u001b[38;5;241m.\u001b[39mto(\u001b[38;5;124m\"\u001b[39m\u001b[38;5;124mcuda\u001b[39m\u001b[38;5;124m\"\u001b[39m)\n\u001b[1;32m     28\u001b[0m \u001b[38;5;66;03m# Forward pass\u001b[39;00m\n\u001b[0;32m---> 29\u001b[0m mean, var \u001b[38;5;241m=\u001b[39m \u001b[43mmodel\u001b[49m\u001b[43m(\u001b[49m\u001b[43mx\u001b[49m\u001b[43m)\u001b[49m\n\u001b[1;32m     30\u001b[0m loss \u001b[38;5;241m=\u001b[39m criterion(mean, y, var)\n\u001b[1;32m     32\u001b[0m \u001b[38;5;28;01mif\u001b[39;00m print_every \u001b[38;5;129;01mis\u001b[39;00m \u001b[38;5;129;01mnot\u001b[39;00m \u001b[38;5;28;01mNone\u001b[39;00m \u001b[38;5;129;01mand\u001b[39;00m (total_steps \u001b[38;5;241m%\u001b[39m print_every \u001b[38;5;241m==\u001b[39m \u001b[38;5;241m0\u001b[39m \u001b[38;5;129;01mor\u001b[39;00m total_steps \u001b[38;5;241m==\u001b[39m \u001b[38;5;241m0\u001b[39m):\n",
            "File \u001b[0;32m~/venv/lib/python3.9/site-packages/torch/nn/modules/module.py:1532\u001b[0m, in \u001b[0;36mModule._wrapped_call_impl\u001b[0;34m(self, *args, **kwargs)\u001b[0m\n\u001b[1;32m   1530\u001b[0m     \u001b[38;5;28;01mreturn\u001b[39;00m \u001b[38;5;28mself\u001b[39m\u001b[38;5;241m.\u001b[39m_compiled_call_impl(\u001b[38;5;241m*\u001b[39margs, \u001b[38;5;241m*\u001b[39m\u001b[38;5;241m*\u001b[39mkwargs)  \u001b[38;5;66;03m# type: ignore[misc]\u001b[39;00m\n\u001b[1;32m   1531\u001b[0m \u001b[38;5;28;01melse\u001b[39;00m:\n\u001b[0;32m-> 1532\u001b[0m     \u001b[38;5;28;01mreturn\u001b[39;00m \u001b[38;5;28;43mself\u001b[39;49m\u001b[38;5;241;43m.\u001b[39;49m\u001b[43m_call_impl\u001b[49m\u001b[43m(\u001b[49m\u001b[38;5;241;43m*\u001b[39;49m\u001b[43margs\u001b[49m\u001b[43m,\u001b[49m\u001b[43m \u001b[49m\u001b[38;5;241;43m*\u001b[39;49m\u001b[38;5;241;43m*\u001b[39;49m\u001b[43mkwargs\u001b[49m\u001b[43m)\u001b[49m\n",
            "File \u001b[0;32m~/venv/lib/python3.9/site-packages/torch/nn/modules/module.py:1541\u001b[0m, in \u001b[0;36mModule._call_impl\u001b[0;34m(self, *args, **kwargs)\u001b[0m\n\u001b[1;32m   1536\u001b[0m \u001b[38;5;66;03m# If we don't have any hooks, we want to skip the rest of the logic in\u001b[39;00m\n\u001b[1;32m   1537\u001b[0m \u001b[38;5;66;03m# this function, and just call forward.\u001b[39;00m\n\u001b[1;32m   1538\u001b[0m \u001b[38;5;28;01mif\u001b[39;00m \u001b[38;5;129;01mnot\u001b[39;00m (\u001b[38;5;28mself\u001b[39m\u001b[38;5;241m.\u001b[39m_backward_hooks \u001b[38;5;129;01mor\u001b[39;00m \u001b[38;5;28mself\u001b[39m\u001b[38;5;241m.\u001b[39m_backward_pre_hooks \u001b[38;5;129;01mor\u001b[39;00m \u001b[38;5;28mself\u001b[39m\u001b[38;5;241m.\u001b[39m_forward_hooks \u001b[38;5;129;01mor\u001b[39;00m \u001b[38;5;28mself\u001b[39m\u001b[38;5;241m.\u001b[39m_forward_pre_hooks\n\u001b[1;32m   1539\u001b[0m         \u001b[38;5;129;01mor\u001b[39;00m _global_backward_pre_hooks \u001b[38;5;129;01mor\u001b[39;00m _global_backward_hooks\n\u001b[1;32m   1540\u001b[0m         \u001b[38;5;129;01mor\u001b[39;00m _global_forward_hooks \u001b[38;5;129;01mor\u001b[39;00m _global_forward_pre_hooks):\n\u001b[0;32m-> 1541\u001b[0m     \u001b[38;5;28;01mreturn\u001b[39;00m \u001b[43mforward_call\u001b[49m\u001b[43m(\u001b[49m\u001b[38;5;241;43m*\u001b[39;49m\u001b[43margs\u001b[49m\u001b[43m,\u001b[49m\u001b[43m \u001b[49m\u001b[38;5;241;43m*\u001b[39;49m\u001b[38;5;241;43m*\u001b[39;49m\u001b[43mkwargs\u001b[49m\u001b[43m)\u001b[49m\n\u001b[1;32m   1543\u001b[0m \u001b[38;5;28;01mtry\u001b[39;00m:\n\u001b[1;32m   1544\u001b[0m     result \u001b[38;5;241m=\u001b[39m \u001b[38;5;28;01mNone\u001b[39;00m\n",
            "Cell \u001b[0;32mIn[14], line 37\u001b[0m, in \u001b[0;36mGaussianNetwork.forward\u001b[0;34m(self, x)\u001b[0m\n\u001b[1;32m     36\u001b[0m \u001b[38;5;28;01mdef\u001b[39;00m \u001b[38;5;21mforward\u001b[39m(\u001b[38;5;28mself\u001b[39m, x):\n\u001b[0;32m---> 37\u001b[0m     x \u001b[38;5;241m=\u001b[39m \u001b[38;5;28;43mself\u001b[39;49m\u001b[38;5;241;43m.\u001b[39;49m\u001b[43mrelu\u001b[49m\u001b[43m(\u001b[49m\u001b[38;5;28;43mself\u001b[39;49m\u001b[38;5;241;43m.\u001b[39;49m\u001b[43mlayer1\u001b[49m\u001b[43m(\u001b[49m\u001b[43mx\u001b[49m\u001b[43m)\u001b[49m\u001b[43m)\u001b[49m\n\u001b[1;32m     38\u001b[0m     mean \u001b[38;5;241m=\u001b[39m \u001b[38;5;28mself\u001b[39m\u001b[38;5;241m.\u001b[39mmean_layer(x)\n\u001b[1;32m     39\u001b[0m     var \u001b[38;5;241m=\u001b[39m \u001b[38;5;28mself\u001b[39m\u001b[38;5;241m.\u001b[39mrelu(\u001b[38;5;28mself\u001b[39m\u001b[38;5;241m.\u001b[39mvar_layer(x))\n",
            "File \u001b[0;32m~/venv/lib/python3.9/site-packages/torch/nn/modules/module.py:1532\u001b[0m, in \u001b[0;36mModule._wrapped_call_impl\u001b[0;34m(self, *args, **kwargs)\u001b[0m\n\u001b[1;32m   1530\u001b[0m     \u001b[38;5;28;01mreturn\u001b[39;00m \u001b[38;5;28mself\u001b[39m\u001b[38;5;241m.\u001b[39m_compiled_call_impl(\u001b[38;5;241m*\u001b[39margs, \u001b[38;5;241m*\u001b[39m\u001b[38;5;241m*\u001b[39mkwargs)  \u001b[38;5;66;03m# type: ignore[misc]\u001b[39;00m\n\u001b[1;32m   1531\u001b[0m \u001b[38;5;28;01melse\u001b[39;00m:\n\u001b[0;32m-> 1532\u001b[0m     \u001b[38;5;28;01mreturn\u001b[39;00m \u001b[38;5;28;43mself\u001b[39;49m\u001b[38;5;241;43m.\u001b[39;49m\u001b[43m_call_impl\u001b[49m\u001b[43m(\u001b[49m\u001b[38;5;241;43m*\u001b[39;49m\u001b[43margs\u001b[49m\u001b[43m,\u001b[49m\u001b[43m \u001b[49m\u001b[38;5;241;43m*\u001b[39;49m\u001b[38;5;241;43m*\u001b[39;49m\u001b[43mkwargs\u001b[49m\u001b[43m)\u001b[49m\n",
            "File \u001b[0;32m~/venv/lib/python3.9/site-packages/torch/nn/modules/module.py:1541\u001b[0m, in \u001b[0;36mModule._call_impl\u001b[0;34m(self, *args, **kwargs)\u001b[0m\n\u001b[1;32m   1536\u001b[0m \u001b[38;5;66;03m# If we don't have any hooks, we want to skip the rest of the logic in\u001b[39;00m\n\u001b[1;32m   1537\u001b[0m \u001b[38;5;66;03m# this function, and just call forward.\u001b[39;00m\n\u001b[1;32m   1538\u001b[0m \u001b[38;5;28;01mif\u001b[39;00m \u001b[38;5;129;01mnot\u001b[39;00m (\u001b[38;5;28mself\u001b[39m\u001b[38;5;241m.\u001b[39m_backward_hooks \u001b[38;5;129;01mor\u001b[39;00m \u001b[38;5;28mself\u001b[39m\u001b[38;5;241m.\u001b[39m_backward_pre_hooks \u001b[38;5;129;01mor\u001b[39;00m \u001b[38;5;28mself\u001b[39m\u001b[38;5;241m.\u001b[39m_forward_hooks \u001b[38;5;129;01mor\u001b[39;00m \u001b[38;5;28mself\u001b[39m\u001b[38;5;241m.\u001b[39m_forward_pre_hooks\n\u001b[1;32m   1539\u001b[0m         \u001b[38;5;129;01mor\u001b[39;00m _global_backward_pre_hooks \u001b[38;5;129;01mor\u001b[39;00m _global_backward_hooks\n\u001b[1;32m   1540\u001b[0m         \u001b[38;5;129;01mor\u001b[39;00m _global_forward_hooks \u001b[38;5;129;01mor\u001b[39;00m _global_forward_pre_hooks):\n\u001b[0;32m-> 1541\u001b[0m     \u001b[38;5;28;01mreturn\u001b[39;00m \u001b[43mforward_call\u001b[49m\u001b[43m(\u001b[49m\u001b[38;5;241;43m*\u001b[39;49m\u001b[43margs\u001b[49m\u001b[43m,\u001b[49m\u001b[43m \u001b[49m\u001b[38;5;241;43m*\u001b[39;49m\u001b[38;5;241;43m*\u001b[39;49m\u001b[43mkwargs\u001b[49m\u001b[43m)\u001b[49m\n\u001b[1;32m   1543\u001b[0m \u001b[38;5;28;01mtry\u001b[39;00m:\n\u001b[1;32m   1544\u001b[0m     result \u001b[38;5;241m=\u001b[39m \u001b[38;5;28;01mNone\u001b[39;00m\n",
            "File \u001b[0;32m~/venv/lib/python3.9/site-packages/torch/nn/modules/activation.py:103\u001b[0m, in \u001b[0;36mReLU.forward\u001b[0;34m(self, input)\u001b[0m\n\u001b[1;32m    102\u001b[0m \u001b[38;5;28;01mdef\u001b[39;00m \u001b[38;5;21mforward\u001b[39m(\u001b[38;5;28mself\u001b[39m, \u001b[38;5;28minput\u001b[39m: Tensor) \u001b[38;5;241m-\u001b[39m\u001b[38;5;241m>\u001b[39m Tensor:\n\u001b[0;32m--> 103\u001b[0m     \u001b[38;5;28;01mreturn\u001b[39;00m \u001b[43mF\u001b[49m\u001b[38;5;241;43m.\u001b[39;49m\u001b[43mrelu\u001b[49m\u001b[43m(\u001b[49m\u001b[38;5;28;43minput\u001b[39;49m\u001b[43m,\u001b[49m\u001b[43m \u001b[49m\u001b[43minplace\u001b[49m\u001b[38;5;241;43m=\u001b[39;49m\u001b[38;5;28;43mself\u001b[39;49m\u001b[38;5;241;43m.\u001b[39;49m\u001b[43minplace\u001b[49m\u001b[43m)\u001b[49m\n",
            "File \u001b[0;32m~/venv/lib/python3.9/site-packages/torch/nn/functional.py:1500\u001b[0m, in \u001b[0;36mrelu\u001b[0;34m(input, inplace)\u001b[0m\n\u001b[1;32m   1498\u001b[0m     result \u001b[38;5;241m=\u001b[39m torch\u001b[38;5;241m.\u001b[39mrelu_(\u001b[38;5;28minput\u001b[39m)\n\u001b[1;32m   1499\u001b[0m \u001b[38;5;28;01melse\u001b[39;00m:\n\u001b[0;32m-> 1500\u001b[0m     result \u001b[38;5;241m=\u001b[39m \u001b[43mtorch\u001b[49m\u001b[38;5;241;43m.\u001b[39;49m\u001b[43mrelu\u001b[49m\u001b[43m(\u001b[49m\u001b[38;5;28;43minput\u001b[39;49m\u001b[43m)\u001b[49m\n\u001b[1;32m   1501\u001b[0m \u001b[38;5;28;01mreturn\u001b[39;00m result\n",
            "\u001b[0;31mKeyboardInterrupt\u001b[0m: "
          ]
        }
      ],
      "source": [
        "def evaluate_model(model, data_loader, criterion):\n",
        "    model.eval()\n",
        "    total_loss = 0\n",
        "    with torch.no_grad():\n",
        "        for x, y in tqdm(data_loader):\n",
        "            x = x.to(\"cuda\")\n",
        "            y = y.to(\"cuda\")\n",
        "            # outputs = model(x)\n",
        "            # loss = criterion(outputs, y)\n",
        "            mean, var = model(x)\n",
        "            loss = criterion(mean, y, var)\n",
        "            total_loss += loss.item()\n",
        "    return total_loss / len(data_loader)\n",
        "\n",
        "# Training loop\n",
        "num_epochs = 30\n",
        "eval_every = 1\n",
        "print_every = 1000\n",
        "\n",
        "total_steps = 0\n",
        "for epoch in range(num_epochs):\n",
        "    epoch_loss = 0\n",
        "    model.train()\n",
        "    for x, y in tqdm(train_loader):\n",
        "        x = x.to(\"cuda\")\n",
        "        y = y.to(\"cuda\")\n",
        "\n",
        "        # Forward pass\n",
        "        mean, var = model(x)\n",
        "        loss = criterion(mean, y, var)\n",
        "\n",
        "        # TODO: Investigate why loss is negative\n",
        "\n",
        "        if print_every is not None and (total_steps % print_every == 0 or total_steps == 0):\n",
        "            print(f'Step [{total_steps}], Train Loss: {loss.item():.4f}')\n",
        "\n",
        "        # Backward pass and optimize\n",
        "        optimizer.zero_grad()\n",
        "        loss.backward()\n",
        "        optimizer.step()\n",
        "\n",
        "        epoch_loss += loss.item()\n",
        "        total_steps += 1\n",
        "\n",
        "    if (epoch + 1) % eval_every == 0:\n",
        "        test_loss = evaluate_model(model, test_loader, criterion)\n",
        "        print(f'Epoch [{epoch+1}/{num_epochs}], Avg Train Loss: {epoch_loss/len(train_loader):.4f}, Test Loss: {test_loss:.4f}')\n",
        "\n",
        "\n",
        "print('Training finished!')\n",
        "\n",
        "# Save the model\n",
        "torch.save(model.state_dict(), 'simple_ff_model.pth')\n",
        "\n",
        "# Final evaluation\n",
        "final_test_loss = evaluate_model(model, test_loader, criterion)\n",
        "print(f'Final Test MSE: {final_test_loss:.4f}')"
      ]
    },
    {
      "cell_type": "code",
      "execution_count": 8,
      "metadata": {
        "colab": {
          "base_uri": "https://localhost:8080/"
        },
        "id": "Fovbv-QcPC-2",
        "outputId": "45c77601-257a-4ef4-c4c1-5a525350e0e0"
      },
      "outputs": [
        {
          "name": "stdout",
          "output_type": "stream",
          "text": [
            "y: 7424.000062457462\n",
            "Prediction 4366.337213231267\n",
            "y: 4553.000006766773\n",
            "Prediction 7920.859834885141\n",
            "y: 5507.999999886252\n",
            "Prediction 5091.6168122874815\n",
            "y: 7440.000091077357\n",
            "Prediction 9133.70495691905\n",
            "y: 4809.999999881303\n",
            "Prediction 3826.4774407709324\n",
            "y: 4809.999999881303\n",
            "Prediction 6629.711670381693\n"
          ]
        }
      ],
      "source": [
        "# Inference code\n",
        "\n",
        "# TODO: Create a benchmark (percentage accuracy) to validate model is not overfitting\n",
        "inference_loader = DataLoader(test_dataset, batch_size=1, shuffle=False)\n",
        "\n",
        "def unnormalize_target(pred, target_mean, target_std):\n",
        "    pred = np.exp(pred * target_std + target_mean)\n",
        "    return pred\n",
        "\n",
        "\n",
        "with torch.no_grad():\n",
        "    for idx, (x, y) in enumerate(inference_loader):\n",
        "        x = x.to(\"cuda\")\n",
        "        y = y.to(\"cuda\")\n",
        "        # print(\"x:\", x)\n",
        "        print(\"y:\", unnormalize_target(y.item(), target_mean, target_std))\n",
        "        mean, var = model(x)\n",
        "        print(\"Prediction\", unnormalize_target(mean.item(), target_mean, target_std))\n",
        "        if idx > 4:\n",
        "            break"
      ]
    },
    {
      "cell_type": "code",
      "execution_count": 9,
      "metadata": {
        "id": "jN61yLs5ZstJ"
      },
      "outputs": [],
      "source": [
        "# Suppose that within +-10% of actual value is a sucess\n",
        "\n",
        "# TODO: Plot the loss to visualize overfitting\n",
        "# TODO: Save each model to Google Drive for benchmarking later\n",
        "# TODO: Create a polar visualization in order to compare each model to the next one\n",
        "# TODO: Creat metrics to compare each model to the next one\n",
        "# TODO: Remove normalization and compare to normalized model"
      ]
    },
    {
      "cell_type": "code",
      "execution_count": 11,
      "metadata": {
        "colab": {
          "base_uri": "https://localhost:8080/",
          "height": 1000
        },
        "id": "_Bmn8cpoVbHV",
        "outputId": "8f741a66-efe1-449c-a18d-033a59fd0a86"
      },
      "outputs": [
        {
          "name": "stderr",
          "output_type": "stream",
          "text": []
        },
        {
          "name": "stdout",
          "output_type": "stream",
          "text": [
            "Epoch [1/30], Avg Train Loss: 0.4040, Test Loss: 0.1765\n"
          ]
        },
        {
          "name": "stderr",
          "output_type": "stream",
          "text": []
        },
        {
          "name": "stdout",
          "output_type": "stream",
          "text": [
            "Epoch [2/30], Avg Train Loss: 0.5770, Test Loss: 0.0990\n"
          ]
        },
        {
          "name": "stderr",
          "output_type": "stream",
          "text": []
        },
        {
          "name": "stdout",
          "output_type": "stream",
          "text": [
            "Epoch [3/30], Avg Train Loss: 0.8843, Test Loss: 0.0427\n"
          ]
        },
        {
          "name": "stderr",
          "output_type": "stream",
          "text": []
        },
        {
          "name": "stdout",
          "output_type": "stream",
          "text": [
            "Epoch [4/30], Avg Train Loss: 0.2812, Test Loss: 0.0085\n"
          ]
        },
        {
          "name": "stderr",
          "output_type": "stream",
          "text": []
        },
        {
          "name": "stdout",
          "output_type": "stream",
          "text": [
            "Epoch [5/30], Avg Train Loss: 0.2589, Test Loss: -0.0139\n"
          ]
        },
        {
          "name": "stderr",
          "output_type": "stream",
          "text": []
        },
        {
          "name": "stdout",
          "output_type": "stream",
          "text": [
            "Epoch [6/30], Avg Train Loss: 0.2444, Test Loss: -0.0356\n"
          ]
        },
        {
          "name": "stderr",
          "output_type": "stream",
          "text": []
        },
        {
          "name": "stdout",
          "output_type": "stream",
          "text": [
            "Epoch [7/30], Avg Train Loss: 0.2865, Test Loss: -0.0415\n"
          ]
        },
        {
          "name": "stderr",
          "output_type": "stream",
          "text": []
        },
        {
          "name": "stdout",
          "output_type": "stream",
          "text": [
            "Epoch [8/30], Avg Train Loss: 0.5262, Test Loss: -0.0642\n"
          ]
        },
        {
          "name": "stderr",
          "output_type": "stream",
          "text": []
        },
        {
          "name": "stdout",
          "output_type": "stream",
          "text": [
            "Epoch [9/30], Avg Train Loss: 0.2058, Test Loss: -0.0772\n"
          ]
        },
        {
          "name": "stderr",
          "output_type": "stream",
          "text": []
        },
        {
          "name": "stdout",
          "output_type": "stream",
          "text": [
            "Epoch [10/30], Avg Train Loss: 0.1906, Test Loss: -0.0902\n"
          ]
        },
        {
          "name": "stderr",
          "output_type": "stream",
          "text": []
        },
        {
          "name": "stdout",
          "output_type": "stream",
          "text": [
            "Epoch [11/30], Avg Train Loss: 0.2368, Test Loss: -0.0833\n"
          ]
        },
        {
          "name": "stderr",
          "output_type": "stream",
          "text": []
        },
        {
          "name": "stdout",
          "output_type": "stream",
          "text": [
            "Epoch [12/30], Avg Train Loss: 0.2752, Test Loss: -0.0973\n"
          ]
        },
        {
          "name": "stderr",
          "output_type": "stream",
          "text": []
        },
        {
          "name": "stdout",
          "output_type": "stream",
          "text": [
            "Epoch [13/30], Avg Train Loss: 0.1495, Test Loss: -0.1232\n"
          ]
        },
        {
          "name": "stderr",
          "output_type": "stream",
          "text": []
        },
        {
          "name": "stdout",
          "output_type": "stream",
          "text": [
            "Epoch [14/30], Avg Train Loss: 0.1182, Test Loss: -0.1232\n"
          ]
        },
        {
          "name": "stderr",
          "output_type": "stream",
          "text": []
        },
        {
          "name": "stdout",
          "output_type": "stream",
          "text": [
            "Epoch [15/30], Avg Train Loss: 0.4029, Test Loss: -0.1190\n"
          ]
        },
        {
          "name": "stderr",
          "output_type": "stream",
          "text": []
        },
        {
          "name": "stdout",
          "output_type": "stream",
          "text": [
            "Epoch [16/30], Avg Train Loss: 0.2002, Test Loss: -0.1482\n"
          ]
        },
        {
          "name": "stderr",
          "output_type": "stream",
          "text": []
        },
        {
          "name": "stdout",
          "output_type": "stream",
          "text": [
            "Epoch [17/30], Avg Train Loss: 0.1518, Test Loss: -0.1395\n"
          ]
        },
        {
          "name": "stderr",
          "output_type": "stream",
          "text": []
        },
        {
          "name": "stdout",
          "output_type": "stream",
          "text": [
            "Epoch [18/30], Avg Train Loss: 0.2024, Test Loss: -0.1566\n"
          ]
        },
        {
          "name": "stderr",
          "output_type": "stream",
          "text": []
        },
        {
          "name": "stdout",
          "output_type": "stream",
          "text": [
            "Epoch [19/30], Avg Train Loss: 0.1048, Test Loss: -0.1584\n"
          ]
        },
        {
          "name": "stderr",
          "output_type": "stream",
          "text": []
        },
        {
          "name": "stdout",
          "output_type": "stream",
          "text": [
            "Epoch [20/30], Avg Train Loss: 0.1146, Test Loss: -0.1705\n"
          ]
        },
        {
          "name": "stderr",
          "output_type": "stream",
          "text": []
        },
        {
          "name": "stdout",
          "output_type": "stream",
          "text": [
            "Epoch [21/30], Avg Train Loss: 0.1021, Test Loss: -0.1773\n"
          ]
        },
        {
          "name": "stderr",
          "output_type": "stream",
          "text": []
        },
        {
          "name": "stdout",
          "output_type": "stream",
          "text": [
            "Epoch [22/30], Avg Train Loss: 0.0907, Test Loss: -0.1634\n"
          ]
        },
        {
          "name": "stderr",
          "output_type": "stream",
          "text": []
        },
        {
          "name": "stdout",
          "output_type": "stream",
          "text": [
            "Epoch [23/30], Avg Train Loss: 0.0362, Test Loss: -0.1831\n"
          ]
        },
        {
          "name": "stderr",
          "output_type": "stream",
          "text": []
        },
        {
          "name": "stdout",
          "output_type": "stream",
          "text": [
            "Epoch [24/30], Avg Train Loss: 0.1133, Test Loss: -0.1938\n"
          ]
        },
        {
          "name": "stderr",
          "output_type": "stream",
          "text": []
        },
        {
          "name": "stdout",
          "output_type": "stream",
          "text": [
            "Epoch [25/30], Avg Train Loss: 0.0365, Test Loss: -0.2039\n"
          ]
        },
        {
          "name": "stderr",
          "output_type": "stream",
          "text": []
        },
        {
          "name": "stdout",
          "output_type": "stream",
          "text": [
            "Epoch [26/30], Avg Train Loss: 0.0173, Test Loss: -0.2039\n"
          ]
        },
        {
          "name": "stderr",
          "output_type": "stream",
          "text": []
        },
        {
          "name": "stdout",
          "output_type": "stream",
          "text": [
            "Epoch [27/30], Avg Train Loss: 0.1619, Test Loss: -0.2271\n"
          ]
        },
        {
          "name": "stderr",
          "output_type": "stream",
          "text": []
        },
        {
          "name": "stdout",
          "output_type": "stream",
          "text": [
            "Epoch [28/30], Avg Train Loss: 0.0940, Test Loss: -0.2116\n"
          ]
        },
        {
          "name": "stderr",
          "output_type": "stream",
          "text": []
        },
        {
          "name": "stdout",
          "output_type": "stream",
          "text": [
            "Epoch [29/30], Avg Train Loss: 0.0660, Test Loss: -0.2239\n"
          ]
        },
        {
          "name": "stderr",
          "output_type": "stream",
          "text": []
        },
        {
          "name": "stdout",
          "output_type": "stream",
          "text": [
            "Epoch [30/30], Avg Train Loss: 0.0424, Test Loss: -0.2292\n",
            "Training finished!\n"
          ]
        },
        {
          "name": "stderr",
          "output_type": "stream",
          "text": []
        },
        {
          "name": "stdout",
          "output_type": "stream",
          "text": [
            "Final Test MSE: -0.2292\n"
          ]
        },
        {
          "data": {
            "image/png": "[encoded data removed]",
            "text/plain": [
              "<Figure size 1000x500 with 1 Axes>"
            ]
          },
          "metadata": {},
          "output_type": "display_data"
        }
      ],
      "source": [
        "# Updated Model Architecture\n",
        "\n",
        "import torch\n",
        "import torch.nn as nn\n",
        "import torch.optim as optim\n",
        "from torch.utils.data import Dataset, DataLoader, random_split\n",
        "from tqdm import tqdm\n",
        "import matplotlib.pyplot as plt\n",
        "\n",
        "# Assuming df_normalized, input_columns, and output_column are defined\n",
        "\n",
        "class DataFrameDataset(Dataset):\n",
        "    def __init__(self, dataframe, input_columns, output_column):\n",
        "        self.X = torch.tensor(dataframe[input_columns].values, dtype=torch.float32)\n",
        "        self.y = torch.tensor(dataframe[output_column].values, dtype=torch.float32).reshape(-1, 1)\n",
        "\n",
        "    def __len__(self):\n",
        "        return len(self.X)\n",
        "\n",
        "    def __getitem__(self, idx):\n",
        "        return self.X[idx], self.y[idx]\n",
        "\n",
        "class ImprovedGaussianNetwork(nn.Module):\n",
        "    def __init__(self, input_size, hidden_size, output_size, dropout_prob=0.5):\n",
        "        super(ImprovedGaussianNetwork, self).__init__()\n",
        "        self.layer1 = nn.Linear(input_size, hidden_size)\n",
        "        self.layer2 = nn.Linear(hidden_size, hidden_size)  # Additional hidden layer\n",
        "        self.mean_layer = nn.Linear(hidden_size, output_size)\n",
        "        self.var_layer = nn.Linear(hidden_size, output_size)\n",
        "        self.relu = nn.ReLU()\n",
        "        self.softplus = nn.Softplus()\n",
        "        self.dropout = nn.Dropout(p=dropout_prob)\n",
        "\n",
        "    def forward(self, x):\n",
        "        x = self.relu(self.layer1(x))\n",
        "        x = self.dropout(x)\n",
        "        x = self.relu(self.layer2(x))\n",
        "        x = self.dropout(x)\n",
        "        mean = self.mean_layer(x)\n",
        "        var = self.softplus(self.var_layer(x)) + 1e-6  # Add epsilon to prevent zero variance\n",
        "        return mean, var\n",
        "\n",
        "# Hyperparameters\n",
        "batch_size = 8\n",
        "input_size = len(input_columns)\n",
        "hidden_size = 128  # Increased hidden size\n",
        "output_size = 1\n",
        "num_epochs = 30\n",
        "learning_rate = 3e-4\n",
        "weight_decay = 1e-5  # L2 regularization parameter\n",
        "clip_value = 1.0  # For gradient clipping\n",
        "dropout_prob = 0.5  # Dropout probability\n",
        "\n",
        "# Set up data loader\n",
        "dataset = DataFrameDataset(df_normalized, input_columns, output_column)\n",
        "\n",
        "# Split the dataset into train and test sets\n",
        "train_size = int(0.9 * len(dataset))\n",
        "test_size = len(dataset) - train_size\n",
        "train_dataset, test_dataset = random_split(dataset, [train_size, test_size])\n",
        "\n",
        "train_loader = DataLoader(train_dataset, batch_size=batch_size, shuffle=True, num_workers=0)\n",
        "test_loader = DataLoader(test_dataset, batch_size=batch_size, shuffle=False, num_workers=0)\n",
        "\n",
        "# Initialize the model\n",
        "model = ImprovedGaussianNetwork(input_size, hidden_size, output_size, dropout_prob=dropout_prob).to(\"cuda\")\n",
        "\n",
        "# Define loss function and optimizer\n",
        "criterion = nn.GaussianNLLLoss()\n",
        "optimizer = optim.Adam(model.parameters(), lr=learning_rate, weight_decay=weight_decay)\n",
        "\n",
        "def evaluate_model(model, data_loader, criterion):\n",
        "    model.eval()\n",
        "    total_loss = 0\n",
        "    with torch.no_grad():\n",
        "        for x, y in tqdm(data_loader, leave=False):\n",
        "            x = x.to(\"cuda\")\n",
        "            y = y.to(\"cuda\")\n",
        "            mean, var = model(x)\n",
        "            loss = criterion(mean, y, var)\n",
        "            total_loss += loss.item()\n",
        "    return total_loss / len(data_loader)\n",
        "\n",
        "# Training loop\n",
        "train_losses = []\n",
        "val_losses = []\n",
        "total_steps = 0\n",
        "for epoch in range(num_epochs):\n",
        "    epoch_loss = 0\n",
        "    model.train()\n",
        "    for x, y in tqdm(train_loader, leave=False):\n",
        "        x = x.to(\"cuda\")\n",
        "        y = y.to(\"cuda\")\n",
        "\n",
        "        # Forward pass\n",
        "        mean, var = model(x)\n",
        "        loss = criterion(mean, y, var)\n",
        "\n",
        "        # Backward pass and optimize\n",
        "        optimizer.zero_grad()\n",
        "        loss.backward()\n",
        "\n",
        "        # Gradient clipping\n",
        "        torch.nn.utils.clip_grad_norm_(model.parameters(), clip_value)\n",
        "\n",
        "        optimizer.step()\n",
        "\n",
        "        epoch_loss += loss.item()\n",
        "        total_steps += 1\n",
        "\n",
        "    # Evaluate on test set\n",
        "    test_loss = evaluate_model(model, test_loader, criterion)\n",
        "    avg_train_loss = epoch_loss / len(train_loader)\n",
        "    train_losses.append(avg_train_loss)\n",
        "    val_losses.append(test_loss)\n",
        "    print(f'Epoch [{epoch+1}/{num_epochs}], Avg Train Loss: {avg_train_loss:.4f}, Test Loss: {test_loss:.4f}')\n",
        "\n",
        "print('Training finished!')\n",
        "\n",
        "# Save the model\n",
        "torch.save(model.state_dict(), 'improved_gaussian_model_with_dropout.pth')\n",
        "\n",
        "# Final evaluation\n",
        "final_test_loss = evaluate_model(model, test_loader, criterion)\n",
        "print(f'Final Test MSE: {final_test_loss:.4f}')\n",
        "\n",
        "# Plotting the training and validation loss\n",
        "plt.figure(figsize=(10,5))\n",
        "plt.plot(range(1, num_epochs+1), train_losses, label='Training Loss')\n",
        "plt.plot(range(1, num_epochs+1), val_losses, label='Validation Loss')\n",
        "plt.xlabel('Epoch')\n",
        "plt.ylabel('Loss')\n",
        "plt.title('Training and Validation Loss over Epochs')\n",
        "plt.legend()\n",
        "plt.show()\n"
      ]
    },
    {
      "cell_type": "code",
      "execution_count": 1,
      "metadata": {
        "colab": {
          "base_uri": "https://localhost:8080/",
          "height": 348
        },
        "id": "oNItT24eUdlQ",
        "outputId": "a3979a62-4e71-4307-c81f-50cedbe524e6"
      },
      "outputs": [
        {
          "ename": "KeyboardInterrupt",
          "evalue": "",
          "output_type": "error",
          "traceback": [
            "\u001b[0;31m---------------------------------------------------------------------------\u001b[0m",
            "\u001b[0;31mKeyboardInterrupt\u001b[0m                         Traceback (most recent call last)",
            "\u001b[0;32m<ipython-input-1-e07d88f39d38>\u001b[0m in \u001b[0;36m<cell line: 3>\u001b[0;34m()\u001b[0m\n\u001b[1;32m      1\u001b[0m \u001b[0;31m# Updated Model Architecture with Hyperparameter Tuning\u001b[0m\u001b[0;34m\u001b[0m\u001b[0;34m\u001b[0m\u001b[0m\n\u001b[1;32m      2\u001b[0m \u001b[0;34m\u001b[0m\u001b[0m\n\u001b[0;32m----> 3\u001b[0;31m \u001b[0;32mimport\u001b[0m \u001b[0mtorch\u001b[0m\u001b[0;34m\u001b[0m\u001b[0;34m\u001b[0m\u001b[0m\n\u001b[0m\u001b[1;32m      4\u001b[0m \u001b[0;32mimport\u001b[0m \u001b[0mtorch\u001b[0m\u001b[0;34m.\u001b[0m\u001b[0mnn\u001b[0m \u001b[0;32mas\u001b[0m \u001b[0mnn\u001b[0m\u001b[0;34m\u001b[0m\u001b[0;34m\u001b[0m\u001b[0m\n\u001b[1;32m      5\u001b[0m \u001b[0;32mimport\u001b[0m \u001b[0mtorch\u001b[0m\u001b[0;34m.\u001b[0m\u001b[0moptim\u001b[0m \u001b[0;32mas\u001b[0m \u001b[0moptim\u001b[0m\u001b[0;34m\u001b[0m\u001b[0;34m\u001b[0m\u001b[0m\n",
            "\u001b[0;32m/usr/local/lib/python3.10/dist-packages/torch/__init__.py\u001b[0m in \u001b[0;36m<module>\u001b[0;34m\u001b[0m\n\u001b[1;32m    288\u001b[0m     \u001b[0;32mif\u001b[0m \u001b[0mUSE_GLOBAL_DEPS\u001b[0m\u001b[0;34m:\u001b[0m\u001b[0;34m\u001b[0m\u001b[0;34m\u001b[0m\u001b[0m\n\u001b[1;32m    289\u001b[0m         \u001b[0m_load_global_deps\u001b[0m\u001b[0;34m(\u001b[0m\u001b[0;34m)\u001b[0m\u001b[0;34m\u001b[0m\u001b[0;34m\u001b[0m\u001b[0m\n\u001b[0;32m--> 290\u001b[0;31m     \u001b[0;32mfrom\u001b[0m \u001b[0mtorch\u001b[0m\u001b[0;34m.\u001b[0m\u001b[0m_C\u001b[0m \u001b[0;32mimport\u001b[0m \u001b[0;34m*\u001b[0m  \u001b[0;31m# noqa: F403\u001b[0m\u001b[0;34m\u001b[0m\u001b[0;34m\u001b[0m\u001b[0m\n\u001b[0m\u001b[1;32m    291\u001b[0m \u001b[0;34m\u001b[0m\u001b[0m\n\u001b[1;32m    292\u001b[0m \u001b[0;31m# Appease the type checker; ordinarily this binding is inserted by the\u001b[0m\u001b[0;34m\u001b[0m\u001b[0;34m\u001b[0m\u001b[0m\n",
            "\u001b[0;31mKeyboardInterrupt\u001b[0m: "
          ]
        }
      ],
      "source": [
        "# Updated Model Architecture with Hyperparameter Tuning Using Optuna\n",
        "\n",
        "import torch\n",
        "import torch.nn as nn\n",
        "import torch.optim as optim\n",
        "from torch.utils.data import Dataset, DataLoader, Subset\n",
        "from sklearn.metrics import mean_squared_error, mean_absolute_error, r2_score\n",
        "from tqdm import tqdm\n",
        "import matplotlib.pyplot as plt\n",
        "import numpy as np\n",
        "import optuna\n",
        "\n",
        "# Assuming df_normalized, input_columns, and output_column are defined\n",
        "\n",
        "class DataFrameDataset(Dataset):\n",
        "    def __init__(self, dataframe, input_columns, output_column):\n",
        "        self.X = torch.tensor(dataframe[input_columns].values, dtype=torch.float32)\n",
        "        self.y = torch.tensor(dataframe[output_column].values, dtype=torch.float32).reshape(-1, 1)\n",
        "\n",
        "    def __len__(self):\n",
        "        return len(self.X)\n",
        "\n",
        "    def __getitem__(self, idx):\n",
        "        return self.X[idx], self.y[idx]\n",
        "\n",
        "class ImprovedGaussianNetwork(nn.Module):\n",
        "    def __init__(self, input_size, hidden_size, output_size, num_layers=2, dropout_prob=0.5, activation='relu'):\n",
        "        super(ImprovedGaussianNetwork, self).__init__()\n",
        "        layers = []\n",
        "        layers.append(nn.Linear(input_size, hidden_size))\n",
        "        if activation == 'relu':\n",
        "            layers.append(nn.ReLU())\n",
        "        elif activation == 'leakyrelu':\n",
        "            layers.append(nn.LeakyReLU())\n",
        "        elif activation == 'elu':\n",
        "            layers.append(nn.ELU())\n",
        "        layers.append(nn.Dropout(p=dropout_prob))\n",
        "        for _ in range(num_layers - 1):\n",
        "            layers.append(nn.Linear(hidden_size, hidden_size))\n",
        "            if activation == 'relu':\n",
        "                layers.append(nn.ReLU())\n",
        "            elif activation == 'leakyrelu':\n",
        "                layers.append(nn.LeakyReLU())\n",
        "            elif activation == 'elu':\n",
        "                layers.append(nn.ELU())\n",
        "            layers.append(nn.Dropout(p=dropout_prob))\n",
        "        self.hidden_layers = nn.Sequential(*layers)\n",
        "        self.mean_layer = nn.Linear(hidden_size, output_size)\n",
        "        self.var_layer = nn.Linear(hidden_size, output_size)\n",
        "        self.softplus = nn.Softplus()\n",
        "\n",
        "    def forward(self, x):\n",
        "        x = self.hidden_layers(x)\n",
        "        mean = self.mean_layer(x)\n",
        "        var = self.softplus(self.var_layer(x)) + 1e-6  # Prevent zero variance\n",
        "        return mean, var\n",
        "\n",
        "def objective(trial):\n",
        "    # Hyperparameters to tune\n",
        "    lr = trial.suggest_loguniform('lr', 1e-5, 1e-2)\n",
        "    hidden_size = trial.suggest_categorical('hidden_size', [64, 128, 256])\n",
        "    dropout_prob = trial.suggest_uniform('dropout_prob', 0.1, 0.5)\n",
        "    weight_decay = trial.suggest_loguniform('weight_decay', 1e-6, 1e-3)\n",
        "    batch_size = trial.suggest_categorical('batch_size', [16, 32, 64])\n",
        "    num_layers = trial.suggest_int('num_layers', 1, 4)\n",
        "    activation = trial.suggest_categorical('activation', ['relu', 'leakyrelu', 'elu'])\n",
        "\n",
        "    device = torch.device('cuda' if torch.cuda.is_available() else 'cpu')\n",
        "\n",
        "    # Set up the dataset\n",
        "    dataset = DataFrameDataset(df_normalized, input_columns, output_column)\n",
        "    dataset_size = len(dataset)\n",
        "    n_splits = 5  # Number of folds for cross-validation\n",
        "    fold_size = dataset_size // n_splits\n",
        "    indices = np.arange(dataset_size)\n",
        "\n",
        "    fold_mses = []\n",
        "    fold_r2s = []\n",
        "\n",
        "    for fold in range(n_splits):\n",
        "        # Time series split\n",
        "        val_start = fold * fold_size\n",
        "        val_end = val_start + fold_size\n",
        "        train_indices = indices[:val_end]\n",
        "        val_indices = indices[val_end:val_end + fold_size] if val_end + fold_size <= dataset_size else indices[val_end:]\n",
        "\n",
        "        train_subset = Subset(dataset, train_indices)\n",
        "        val_subset = Subset(dataset, val_indices)\n",
        "\n",
        "        train_loader = DataLoader(train_subset, batch_size=batch_size, shuffle=False)\n",
        "        val_loader = DataLoader(val_subset, batch_size=batch_size, shuffle=False)\n",
        "\n",
        "        # Initialize the model\n",
        "        model = ImprovedGaussianNetwork(len(input_columns), hidden_size, 1, num_layers=num_layers, dropout_prob=dropout_prob, activation=activation).to(device)\n",
        "\n",
        "        # Define loss function, optimizer, and scheduler\n",
        "        criterion = nn.GaussianNLLLoss()\n",
        "        optimizer = optim.Adam(model.parameters(), lr=lr, weight_decay=weight_decay)\n",
        "        scheduler = optim.lr_scheduler.ReduceLROnPlateau(optimizer, mode='min', patience=5, factor=0.5, verbose=False)\n",
        "\n",
        "        # Early stopping variables\n",
        "        best_val_loss = float('inf')\n",
        "        epochs_no_improve = 0\n",
        "        patience = 10  # Early stopping patience\n",
        "        num_epochs = 50  # Reduced for faster trials\n",
        "\n",
        "        for epoch in range(num_epochs):\n",
        "            model.train()\n",
        "            total_train_loss = 0\n",
        "            for x, y in train_loader:\n",
        "                x = x.to(device)\n",
        "                y = y.to(device)\n",
        "\n",
        "                # Forward pass\n",
        "                mean, var = model(x)\n",
        "                loss = criterion(mean, y, var)\n",
        "\n",
        "                # Backward pass and optimize\n",
        "                optimizer.zero_grad()\n",
        "                loss.backward()\n",
        "                torch.nn.utils.clip_grad_norm_(model.parameters(), 1.0)\n",
        "                optimizer.step()\n",
        "\n",
        "                total_train_loss += loss.item()\n",
        "\n",
        "            avg_train_loss = total_train_loss / len(train_loader)\n",
        "\n",
        "            # Validation\n",
        "            model.eval()\n",
        "            total_val_loss = 0\n",
        "            preds = []\n",
        "            trues = []\n",
        "            with torch.no_grad():\n",
        "                for x, y in val_loader:\n",
        "                    x = x.to(device)\n",
        "                    y = y.to(device)\n",
        "                    mean, var = model(x)\n",
        "                    loss = criterion(mean, y, var)\n",
        "                    total_val_loss += loss.item()\n",
        "                    preds.extend(mean.cpu().numpy())\n",
        "                    trues.extend(y.cpu().numpy())\n",
        "            avg_val_loss = total_val_loss / len(val_loader)\n",
        "            mse = mean_squared_error(trues, preds)\n",
        "            r2 = r2_score(trues, preds)\n",
        "\n",
        "            # Scheduler step\n",
        "            scheduler.step(avg_val_loss)\n",
        "\n",
        "            # Early stopping\n",
        "            if avg_val_loss < best_val_loss:\n",
        "                best_val_loss = avg_val_loss\n",
        "                epochs_no_improve = 0\n",
        "            else:\n",
        "                epochs_no_improve += 1\n",
        "                if epochs_no_improve >= patience:\n",
        "                    break\n",
        "\n",
        "        # Record metrics for the fold\n",
        "        fold_mses.append(mse)\n",
        "        fold_r2s.append(r2)\n",
        "\n",
        "    # Return the average MSE across folds\n",
        "    avg_mse = np.mean(fold_mses)\n",
        "    return avg_mse\n",
        "\n",
        "# Create a study and optimize\n",
        "study = optuna.create_study(direction='minimize')\n",
        "study.optimize(objective, n_trials=50)\n",
        "\n",
        "print('Best hyperparameters:', study.best_params)\n",
        "\n",
        "# Train final model with best hyperparameters\n",
        "best_params = study.best_params\n",
        "lr = best_params['lr']\n",
        "hidden_size = best_params['hidden_size']\n",
        "dropout_prob = best_params['dropout_prob']\n",
        "weight_decay = best_params['weight_decay']\n",
        "batch_size = best_params['batch_size']\n",
        "num_layers = best_params['num_layers']\n",
        "activation = best_params['activation']\n",
        "\n",
        "# You can now train your final model using these hyperparameters\n",
        "# and evaluate its performance\n"
      ]
    },
    {
      "cell_type": "code",
      "execution_count": 12,
      "metadata": {
        "id": "pQ1ZeAtmYnuo"
      },
      "outputs": [],
      "source": [
        "\n"
      ]
    }
  ],
  "metadata": {
    "accelerator": "GPU",
    "colab": {
      "gpuType": "T4",
      "provenance": []
    },
    "kernelspec": {
      "display_name": "Python 3",
      "name": "python3"
    },
    "language_info": {
      "codemirror_mode": {
        "name": "ipython",
        "version": 3
      },
      "file_extension": ".py",
      "mimetype": "text/x-python",
      "name": "python",
      "nbconvert_exporter": "python",
      "pygments_lexer": "ipython3",
      "version": "3.9.19"
    }
  },
  "nbformat": 4,
  "nbformat_minor": 0
}
